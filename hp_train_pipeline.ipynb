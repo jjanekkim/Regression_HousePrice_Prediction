{
 "cells": [
  {
   "cell_type": "markdown",
   "metadata": {},
   "source": [
    "# Import House Price Package"
   ]
  },
  {
   "cell_type": "code",
   "execution_count": 1,
   "metadata": {},
   "outputs": [],
   "source": [
    "import houseprice_package as hp"
   ]
  },
  {
   "cell_type": "markdown",
   "metadata": {},
   "source": [
    "# Pipeline"
   ]
  },
  {
   "cell_type": "code",
   "execution_count": 2,
   "metadata": {},
   "outputs": [],
   "source": [
    "path = r\"C:\\Users\\nene0\\Documents\\Datasets\\house-prices-advanced-regression-techniques\\train.csv\"\n",
    "\n",
    "df = hp.read_data(path)\n",
    "train = hp.prevent_data_leak(df)\n",
    "train = hp.drop_id(train)\n",
    "train = hp.drop_outliers(train)\n",
    "train, features_drop = hp.drop_features_tr(train)\n",
    "train, mm_dict, lf_dict = hp.data_imputation_tr(train)\n",
    "train = hp.data_org(train)\n",
    "train, avg_dB = hp.feature_eng_tr(train)\n",
    "encoded_train, oneHot = hp.onehot_encode_tr(train)\n",
    "encoded_train, selected_ft = hp.selected_features_tr(train, encoded_train)\n",
    "scaled_train, not_sc_train, std_scaler = hp.scale_data_tr(train)\n",
    "final_df = hp.final_train(train, encoded_train, scaled_train, not_sc_train)\n",
    "final_df = hp.transform_target(final_df)\n",
    "x_train, x_test, y_train, y_test = hp.train_test_df(final_df)\n",
    "en, gbr, xgbr = hp.train_models(x_train, y_train)\n",
    "en_pred, gbr_pred, xgbr_pred = hp.price_prediction(x_test, en, gbr, xgbr)\n",
    "weighted_pred, y_test_inv = hp.weighted_pred_tr(y_test, en_pred, gbr_pred, xgbr_pred)"
   ]
  },
  {
   "cell_type": "markdown",
   "metadata": {},
   "source": [
    "# Pickle"
   ]
  },
  {
   "cell_type": "code",
   "execution_count": 3,
   "metadata": {},
   "outputs": [
    {
     "name": "stdout",
     "output_type": "stream",
     "text": [
      "Pickle save complete!\n",
      "Pickle save complete!\n",
      "Pickle save complete!\n",
      "Pickle save complete!\n",
      "Pickle save complete!\n",
      "Pickle save complete!\n",
      "Pickle save complete!\n",
      "Pickle save complete!\n",
      "Pickle save complete!\n",
      "Pickle save complete!\n"
     ]
    }
   ],
   "source": [
    "hp.pickle_objects(mm_dict, \"mm_dict\")\n",
    "hp.pickle_objects(lf_dict, \"lf_dict\")\n",
    "hp.pickle_objects(avg_dB, \"avg_dB_dict\")\n",
    "hp.pickle_objects(oneHot, \"oneHot\")\n",
    "hp.pickle_objects(selected_ft, \"selected_ft\")\n",
    "hp.pickle_objects(std_scaler, \"std_scaler\")\n",
    "hp.pickle_objects(en, \"elastic_net\")\n",
    "hp.pickle_objects(gbr, \"gradient\")\n",
    "hp.pickle_objects(xgbr, \"xg_regressor\")\n",
    "hp.pickle_objects(features_drop, \"features_drop\")"
   ]
  },
  {
   "cell_type": "markdown",
   "metadata": {},
   "source": [
    "# Result"
   ]
  },
  {
   "cell_type": "code",
   "execution_count": 4,
   "metadata": {},
   "outputs": [
    {
     "data": {
      "text/html": [
       "<div>\n",
       "<style scoped>\n",
       "    .dataframe tbody tr th:only-of-type {\n",
       "        vertical-align: middle;\n",
       "    }\n",
       "\n",
       "    .dataframe tbody tr th {\n",
       "        vertical-align: top;\n",
       "    }\n",
       "\n",
       "    .dataframe thead th {\n",
       "        text-align: right;\n",
       "    }\n",
       "</style>\n",
       "<table border=\"1\" class=\"dataframe\">\n",
       "  <thead>\n",
       "    <tr style=\"text-align: right;\">\n",
       "      <th></th>\n",
       "      <th>ElasticNet</th>\n",
       "      <th>GradientBoost</th>\n",
       "      <th>XGBoost</th>\n",
       "    </tr>\n",
       "  </thead>\n",
       "  <tbody>\n",
       "    <tr>\n",
       "      <th>RMSE</th>\n",
       "      <td>19422.649907</td>\n",
       "      <td>19460.739556</td>\n",
       "      <td>19714.367135</td>\n",
       "    </tr>\n",
       "  </tbody>\n",
       "</table>\n",
       "</div>"
      ],
      "text/plain": [
       "        ElasticNet  GradientBoost       XGBoost\n",
       "RMSE  19422.649907   19460.739556  19714.367135"
      ]
     },
     "execution_count": 4,
     "metadata": {},
     "output_type": "execute_result"
    }
   ],
   "source": [
    "hp.rmse_result(y_test, en_pred, gbr_pred, xgbr_pred)"
   ]
  },
  {
   "cell_type": "code",
   "execution_count": 5,
   "metadata": {},
   "outputs": [
    {
     "name": "stdout",
     "output_type": "stream",
     "text": [
      "Weighted RMSE: 18413.691210854628\n"
     ]
    }
   ],
   "source": [
    "hp.print_weighte_pred_rmse(weighted_pred, y_test_inv)"
   ]
  }
 ],
 "metadata": {
  "kernelspec": {
   "display_name": "Python 3",
   "language": "python",
   "name": "python3"
  },
  "language_info": {
   "codemirror_mode": {
    "name": "ipython",
    "version": 3
   },
   "file_extension": ".py",
   "mimetype": "text/x-python",
   "name": "python",
   "nbconvert_exporter": "python",
   "pygments_lexer": "ipython3",
   "version": "3.11.3"
  }
 },
 "nbformat": 4,
 "nbformat_minor": 2
}
