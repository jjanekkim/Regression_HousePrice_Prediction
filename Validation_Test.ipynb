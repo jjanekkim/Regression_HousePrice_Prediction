{
 "cells": [
  {
   "cell_type": "markdown",
   "metadata": {},
   "source": [
    "# Import Dependencies"
   ]
  },
  {
   "cell_type": "code",
   "execution_count": 19,
   "metadata": {},
   "outputs": [],
   "source": [
    "import pandas as pd\n",
    "import numpy as np\n",
    "\n",
    "from sklearn.metrics import mean_squared_error\n",
    "\n",
    "pd.set_option('display.max_columns', None)\n",
    "\n",
    "import houseprice_package as hp # This is my own package!"
   ]
  },
  {
   "cell_type": "markdown",
   "metadata": {},
   "source": [
    "## Load Pickle Objects"
   ]
  },
  {
   "cell_type": "markdown",
   "metadata": {},
   "source": [
    "The following objects have been pickled and extracted from the data analysis and training notebook:\n",
    "- Pickle: A Python module utilized for serializing and deserializing Python objects. This process involves converting Python objects into a byte stream, enabling their storage in a file. Pickle facilitates the serialization of various data structures such as lists and dictionaries into a binary format. However, it's essential to exercise caution when unpickling data from unknown or untrusted sources, as this action may pose a security risk by potentially executing arbitrary code."
   ]
  },
  {
   "cell_type": "code",
   "execution_count": 20,
   "metadata": {},
   "outputs": [],
   "source": [
    "avgdB = hp.load_objects(\"C:/Users/nene0/OneDrive/바탕 화면/Python Learning/DataScienceMod2_LFZ/HousePrice_cleaned/train_pickles/avg_dB_dict.pickle\")\n",
    "en = hp.load_objects(\"C:/Users/nene0/OneDrive/바탕 화면/Python Learning/DataScienceMod2_LFZ/HousePrice_cleaned/train_pickles/elastic_net.pickle\")\n",
    "gbr = hp.load_objects(\"C:/Users/nene0/OneDrive/바탕 화면/Python Learning/DataScienceMod2_LFZ/HousePrice_cleaned/train_pickles/gradient.pickle\")\n",
    "lf_dict = hp.load_objects(\"C:/Users/nene0/OneDrive/바탕 화면/Python Learning/DataScienceMod2_LFZ/HousePrice_cleaned/train_pickles/lf_dict.pickle\")\n",
    "mas_dict = hp.load_objects(\"C:/Users/nene0/OneDrive/바탕 화면/Python Learning/DataScienceMod2_LFZ/HousePrice_cleaned/train_pickles/mm_dict.pickle\")\n",
    "oneHot = hp.load_objects(\"C:/Users/nene0/OneDrive/바탕 화면/Python Learning/DataScienceMod2_LFZ/HousePrice_cleaned/train_pickles/oneHot.pickle\")\n",
    "features = hp.load_objects(\"C:/Users/nene0/OneDrive/바탕 화면/Python Learning/DataScienceMod2_LFZ/HousePrice_cleaned/train_pickles/selected_ft.pickle\")\n",
    "scaler = hp.load_objects(\"C:/Users/nene0/OneDrive/바탕 화면/Python Learning/DataScienceMod2_LFZ/HousePrice_cleaned/train_pickles/std_scaler.pickle\")\n",
    "xgbr = hp.load_objects(\"C:/Users/nene0/OneDrive/바탕 화면/Python Learning/DataScienceMod2_LFZ/HousePrice_cleaned/train_pickles/xg_regressor.pickle\")\n",
    "features_drop = hp.load_objects(\"C:/Users/nene0/OneDrive/바탕 화면/Python Learning/DataScienceMod2_LFZ/HousePrice_cleaned/train_pickles/features_drop.pickle\")"
   ]
  },
  {
   "cell_type": "markdown",
   "metadata": {},
   "source": [
    "# Validation Data"
   ]
  },
  {
   "cell_type": "code",
   "execution_count": 21,
   "metadata": {},
   "outputs": [],
   "source": [
    "validation = pd.read_csv(r\"C:\\Users\\nene0\\OneDrive\\바탕 화면\\Python Learning\\DataScienceMod2_LFZ\\HousePrice_cleaned\\house_price_validation.csv\")"
   ]
  },
  {
   "cell_type": "code",
   "execution_count": 22,
   "metadata": {},
   "outputs": [],
   "source": [
    "validation.drop(columns='Id', inplace=True)\n",
    "validation.drop(columns=['MasVnrType', 'Fence', 'Alley', 'MiscFeature', 'PoolQC'], inplace=True)"
   ]
  },
  {
   "cell_type": "code",
   "execution_count": 23,
   "metadata": {},
   "outputs": [],
   "source": [
    "# Checked the unique values using data dictionary, 'N/A' means no basement.\n",
    "validation['BsmtQual'] = np.where(((validation['TotalBsmtSF']==0)&(validation['BsmtQual'].isna())), 'N/A', validation['BsmtQual'])\n",
    "validation['BsmtCond'] = np.where(((validation['TotalBsmtSF']==0)&(validation['BsmtCond'].isna())), 'N/A', validation['BsmtCond'])\n",
    "validation['BsmtExposure'] = np.where(((validation['TotalBsmtSF']==0)&(validation['BsmtExposure'].isna())), 'N/A', validation['BsmtExposure'])\n",
    "validation['BsmtFinType1'] = np.where(((validation['TotalBsmtSF']==0)&(validation['BsmtFinType1'].isna())), 'N/A', validation['BsmtFinType1'])\n",
    "validation['BsmtFinType2'] = np.where(((validation['TotalBsmtSF']==0)&(validation['BsmtFinType2'].isna())), 'N/A', validation['BsmtFinType2'])\n",
    "\n",
    "# Fill in missing values by mode for the index 534.\n",
    "validation['BsmtFinType2'].fillna('Unf', inplace=True)\n",
    "\n",
    "validation['GarageType'] = np.where(((validation['GarageArea']==0)&(validation['GarageType'].isna())), 'N/A', validation['GarageType'])\n",
    "validation['GarageYrBlt'] = np.where(((validation['GarageArea']==0)&(validation['GarageYrBlt'].isna())), 0, validation['GarageYrBlt'])\n",
    "validation['GarageFinish'] = np.where(((validation['GarageArea']==0)&(validation['GarageFinish'].isna())), 'N/A', validation['GarageFinish'])\n",
    "validation['GarageQual'] = np.where(((validation['GarageArea']==0)&(validation['GarageQual'].isna())), 'N/A', validation['GarageQual'])\n",
    "validation['GarageCond'] = np.where(((validation['GarageArea']==0)&(validation['GarageCond'].isna())), 'N/A', validation['GarageCond'])"
   ]
  },
  {
   "cell_type": "code",
   "execution_count": 24,
   "metadata": {},
   "outputs": [],
   "source": [
    "validation['Electrical'].fillna('SBrkr', inplace=True)\n",
    "validation['FireplaceQu'].fillna('N/A', inplace=True)\n",
    "\n",
    "validation['MasVnrArea'] = validation.apply(lambda row: mas_dict.get(row['Neighborhood'], row['MasVnrArea']) if pd.isna(row['MasVnrArea']) else row['MasVnrArea'],axis=1)\n",
    "validation['LotFrontage'] = validation.apply(lambda row: lf_dict.get(row['Neighborhood'], row['LotFrontage']) if pd.isna(row['LotFrontage']) else row['LotFrontage'], axis=1)"
   ]
  },
  {
   "cell_type": "code",
   "execution_count": 25,
   "metadata": {},
   "outputs": [],
   "source": [
    "# MSSubClass type is integer but it is actually nominal categorical data type.\n",
    "validation['MSSubClass'] = validation['MSSubClass'].astype('object')\n",
    "\n",
    "#Change some features into binary.\n",
    "validation['GarageFinish'] = validation['GarageFinish'].map(lambda x: 1 if x=='Fin' else 0)\n",
    "validation['CentralAir'] = validation['CentralAir'].map(lambda x: 1 if x=='Y' else 0)\n",
    "validation['Functional'] = validation['Functional'].map(lambda x: 1 if x=='Typ' else 0)\n",
    "validation['PavedDrive'] = validation['PavedDrive'].map(lambda x: 1 if x=='Y' else 0)\n",
    "validation['Fireplaces'] = validation['Fireplaces'].map(lambda x: 1 if x>0 else 0)\n",
    "validation['Street'] = validation['Street'].map(lambda x: 1 if x=='Pave' else 0)\n",
    "validation['Utilities'] = validation['Utilities'].map(lambda x: 1 if x=='AllPub' else 0)\n",
    "\n",
    "qc_dictionary = {'Ex':5, 'Gd':4, 'TA':3, 'Fa':2, 'Po':1, 'N/A':0}\n",
    "height_dictionary = {'Ex':100, 'Gd':90, 'TA':80, 'Fa':70, 'Po':60, 'N/A':0}\n",
    "\n",
    "validation['ExterQual'] = validation['ExterQual'].replace(qc_dictionary)\n",
    "validation['ExterCond'] = validation['ExterCond'].replace(qc_dictionary)\n",
    "validation['BsmtCond'] = validation['BsmtCond'].replace(qc_dictionary)\n",
    "validation['HeatingQC'] = validation['HeatingQC'].replace(qc_dictionary)\n",
    "validation['KitchenQual'] = validation['KitchenQual'].replace(qc_dictionary)\n",
    "validation['FireplaceQu'] = validation['FireplaceQu'].replace(qc_dictionary)\n",
    "validation['GarageQual'] = validation['GarageQual'].replace(qc_dictionary)\n",
    "validation['GarageCond'] = validation['GarageCond'].replace(qc_dictionary)\n",
    "\n",
    "#Make a feature that is Basement Height instead of quality to prevent confusion.\n",
    "validation['BsmtHeight'] = validation['BsmtQual'].replace(height_dictionary)\n",
    "validation.drop(columns='BsmtQual', inplace=True)\n",
    "\n",
    "validation['OverallQC'] = (validation['OverallQual'] + validation['OverallCond'])/2\n",
    "validation['ExteriorQC'] = (validation['ExterQual'] + validation['ExterCond'])/2\n",
    "validation['GarageQC'] = (validation['GarageQual'] + validation['GarageCond'])/2\n",
    "\n",
    "validation.drop(columns=['OverallQual','OverallCond','ExterQual','ExterCond','GarageQual','GarageCond'], inplace=True)\n",
    "\n",
    "validation['BsmtFinType1'] = validation['BsmtFinType1'].map(lambda x: 1 if x=='GLQ' else 1 if x=='ALQ' else 0)\n",
    "validation['BsmtFinType2'] = validation['BsmtFinType2'].map(lambda x: 1 if x=='GLQ' else 1 if x=='ALQ' else 0)\n",
    "\n",
    "validation['BsmtFinish'] = validation['BsmtFinType1'] + validation['BsmtFinType2']\n",
    "\n",
    "validation.drop(columns=['BsmtExposure','BsmtFinType1','BsmtFinType2'], inplace=True)"
   ]
  },
  {
   "cell_type": "code",
   "execution_count": 26,
   "metadata": {},
   "outputs": [],
   "source": [
    "# Total Porch Area\n",
    "validation['TotalPorchSF'] = validation['OpenPorchSF'] + validation['EnclosedPorch'] + validation['3SsnPorch'] + validation['ScreenPorch']\n",
    "\n",
    "# Total Living Area\n",
    "validation['TotalLivSF'] = validation['MasVnrArea'] + validation['TotalBsmtSF'] + validation['1stFlrSF'] + validation['2ndFlrSF'] + validation['GarageArea'] + validation['PoolArea'] + validation['TotalPorchSF'] + validation['WoodDeckSF']\n",
    "\n",
    "# New Built House\n",
    "validation['NewHouse'] = validation['SaleType'].map(lambda x: 1 if x=='New' else 0)\n",
    "\n",
    "# Expensive Neighborhood\n",
    "validation['ExpNeighborhood'] = validation['Neighborhood'].map(lambda x: 1 if x=='NoRidge' else 1 if x=='NridgHt' else 1 if x=='StoneBr' else 0)\n",
    "\n",
    "# Basement and Ground Bathrooms\n",
    "validation['BsmtHalfBath'] = validation['BsmtHalfBath'].map(lambda x: 0.5 if x==1 else 1 if x==2 else 0)\n",
    "validation['HalfBath'] = validation['HalfBath'].map(lambda x: 0.5 if x==1 else 1 if x==2 else 0)\n",
    "\n",
    "validation['BsmtBaths'] = validation['BsmtFullBath'] + validation['BsmtHalfBath']\n",
    "validation['GrBaths'] = validation['FullBath'] + validation['HalfBath']\n",
    "\n",
    "# Age of the House\n",
    "validation['HouseAge'] = validation['YrSold'] - validation['YearBuilt']\n",
    "\n",
    "#Neighbor dB\n",
    "condition = {'Norm':'Normal', 'Feedr':'Road', 'PosN':'Good', 'Artery':'Road', 'RRAe':'Railroad', 'RRNn':'Railroad', 'RRAn':'Railroad',\n",
    "             'PosA':'Good', 'RRNe':'Railroad'}\n",
    "validation['Condition1'] = validation['Condition1'].replace(condition)\n",
    "validation['Condition2'] = validation['Condition2'].replace(condition)\n",
    "validation['NeighborCondition'] = validation['Condition1'] + validation['Condition2']\n",
    "\n",
    "condition2 = {'NormalNormal':60, 'RoadNormal':75, 'GoodNormal':55, 'RoadRoad':80,'RailroadNormal':85,\n",
    " 'RoadRailroad':100, 'RailroadRoad':100, 'GoodGood':50,'RoadGood':70}\n",
    "validation['NeighborNoise(dB)'] = validation['NeighborCondition'].replace(condition2)\n",
    "\n",
    "validation['NeighborAvg_dB'] = validation['Neighborhood'].replace(avgdB)\n",
    "validation['NeighborAvg_dB'] = round(validation['NeighborAvg_dB'],2)\n",
    "\n",
    "validation.drop(columns=['MoSold','SaleType','SaleCondition','Condition1','Condition2','NeighborNoise(dB)','NeighborCondition','BsmtFullBath','BsmtHalfBath','YrSold','LotConfig','HalfBath'], inplace=True)"
   ]
  },
  {
   "cell_type": "code",
   "execution_count": 27,
   "metadata": {},
   "outputs": [],
   "source": [
    "val_cat_ft = validation[validation.select_dtypes('object').columns]\n",
    "encoded_val = oneHot.transform(val_cat_ft)\n",
    "encoded_val_df = encoded_val[features]"
   ]
  },
  {
   "cell_type": "code",
   "execution_count": 28,
   "metadata": {},
   "outputs": [],
   "source": [
    "val_target = np.log(validation['SalePrice'])\n",
    "validation.drop(columns=['Street', 'Utilities','SalePrice'], inplace=True)\n",
    "ns_val = validation[['YearBuilt', 'YearRemodAdd', 'BsmtCond', 'HeatingQC', 'CentralAir', 'FullBath', 'BedroomAbvGr', 'KitchenAbvGr', 'KitchenQual', 'Functional',\n",
    "                    'Fireplaces', 'FireplaceQu', 'GarageYrBlt', 'GarageFinish', 'GarageCars', 'PavedDrive', 'OverallQC', 'ExteriorQC', 'GarageQC',\n",
    "                    'BsmtFinish', 'NewHouse', 'ExpNeighborhood', 'BsmtBaths', 'GrBaths']]\n",
    "\n",
    "n_val = validation[validation.select_dtypes(['float', 'int']).columns].drop(columns=ns_val.columns)\n",
    "\n",
    "scaled_val = pd.DataFrame(scaler.transform(n_val), columns=n_val.columns)"
   ]
  },
  {
   "cell_type": "code",
   "execution_count": 29,
   "metadata": {},
   "outputs": [],
   "source": [
    "fin_val = encoded_val_df.join(scaled_val)\n",
    "fin_val = fin_val.join(ns_val)"
   ]
  },
  {
   "cell_type": "code",
   "execution_count": 30,
   "metadata": {},
   "outputs": [],
   "source": [
    "en_pred = en.predict(fin_val)\n",
    "gbr_pred = gbr.predict(fin_val)\n",
    "xgbr_pred = xgbr.predict(fin_val)"
   ]
  },
  {
   "cell_type": "code",
   "execution_count": 31,
   "metadata": {},
   "outputs": [
    {
     "name": "stdout",
     "output_type": "stream",
     "text": [
      "Weighted RMSE: 23904.490439255325\n"
     ]
    }
   ],
   "source": [
    "weighted_pred = en_pred * 0.5 + gbr_pred * 0.2 + xgbr_pred * 0.3\n",
    "print('Weighted RMSE:',mean_squared_error(np.exp(val_target), np.exp(weighted_pred)) ** .5)"
   ]
  },
  {
   "cell_type": "markdown",
   "metadata": {},
   "source": [
    "The weighted prediction for the test dataset, which was split from the original train dataset for cross-validation, stands at approximately 24K. This represents a difference of approximately 5K from the RMSE observed in the train dataset. Ideally, we aim to minimize the disparity between these two datasets for better model generalization. Nevertheless, for the present moment, we will employ this model to make predictions on the actual test dataset."
   ]
  },
  {
   "cell_type": "markdown",
   "metadata": {},
   "source": [
    "# Test Data"
   ]
  },
  {
   "cell_type": "code",
   "execution_count": 3,
   "metadata": {},
   "outputs": [],
   "source": [
    "test_path = r\"C:\\Users\\nene0\\Documents\\Datasets\\house-prices-advanced-regression-techniques\\test.csv\""
   ]
  },
  {
   "cell_type": "code",
   "execution_count": 4,
   "metadata": {},
   "outputs": [],
   "source": [
    "df = hp.read_data(test_path)\n",
    "test = hp.drop_id(df)\n",
    "test = hp.drop_features_ts(test, features_drop)\n",
    "test = hp.data_imputation_ts(test, mas_dict, lf_dict)\n",
    "test = hp.data_org(test)\n",
    "test = hp.test_fill_values(test)\n",
    "test = hp.feature_eng_ts(test, avgdB)\n",
    "encoded_test = hp.onehot_encode_ts(test, oneHot)\n",
    "encoded_test = hp.selected_features_ts(encoded_test, features)\n",
    "scaled_test, noscale_test = hp.scale_data_ts(test, scaler)\n",
    "test_final = hp.final_test(encoded_test, scaled_test, noscale_test)\n",
    "test_en_pred, test_gbr_pred, test_xgbr_pred = hp.price_prediction(test_final, en, gbr, xgbr)\n",
    "final_pred = hp.weighted_pred_ts(test_en_pred, test_gbr_pred, test_xgbr_pred)"
   ]
  },
  {
   "cell_type": "code",
   "execution_count": 5,
   "metadata": {},
   "outputs": [
    {
     "data": {
      "text/html": [
       "<div>\n",
       "<style scoped>\n",
       "    .dataframe tbody tr th:only-of-type {\n",
       "        vertical-align: middle;\n",
       "    }\n",
       "\n",
       "    .dataframe tbody tr th {\n",
       "        vertical-align: top;\n",
       "    }\n",
       "\n",
       "    .dataframe thead th {\n",
       "        text-align: right;\n",
       "    }\n",
       "</style>\n",
       "<table border=\"1\" class=\"dataframe\">\n",
       "  <thead>\n",
       "    <tr style=\"text-align: right;\">\n",
       "      <th></th>\n",
       "      <th>SalePrice</th>\n",
       "    </tr>\n",
       "  </thead>\n",
       "  <tbody>\n",
       "    <tr>\n",
       "      <th>0</th>\n",
       "      <td>128250.879389</td>\n",
       "    </tr>\n",
       "    <tr>\n",
       "      <th>1</th>\n",
       "      <td>163414.757031</td>\n",
       "    </tr>\n",
       "    <tr>\n",
       "      <th>2</th>\n",
       "      <td>190749.234289</td>\n",
       "    </tr>\n",
       "    <tr>\n",
       "      <th>3</th>\n",
       "      <td>203481.241532</td>\n",
       "    </tr>\n",
       "    <tr>\n",
       "      <th>4</th>\n",
       "      <td>196541.320088</td>\n",
       "    </tr>\n",
       "    <tr>\n",
       "      <th>...</th>\n",
       "      <td>...</td>\n",
       "    </tr>\n",
       "    <tr>\n",
       "      <th>1454</th>\n",
       "      <td>86164.553925</td>\n",
       "    </tr>\n",
       "    <tr>\n",
       "      <th>1455</th>\n",
       "      <td>86349.368901</td>\n",
       "    </tr>\n",
       "    <tr>\n",
       "      <th>1456</th>\n",
       "      <td>176765.974424</td>\n",
       "    </tr>\n",
       "    <tr>\n",
       "      <th>1457</th>\n",
       "      <td>121650.124802</td>\n",
       "    </tr>\n",
       "    <tr>\n",
       "      <th>1458</th>\n",
       "      <td>223374.344789</td>\n",
       "    </tr>\n",
       "  </tbody>\n",
       "</table>\n",
       "<p>1459 rows × 1 columns</p>\n",
       "</div>"
      ],
      "text/plain": [
       "          SalePrice\n",
       "0     128250.879389\n",
       "1     163414.757031\n",
       "2     190749.234289\n",
       "3     203481.241532\n",
       "4     196541.320088\n",
       "...             ...\n",
       "1454   86164.553925\n",
       "1455   86349.368901\n",
       "1456  176765.974424\n",
       "1457  121650.124802\n",
       "1458  223374.344789\n",
       "\n",
       "[1459 rows x 1 columns]"
      ]
     },
     "execution_count": 5,
     "metadata": {},
     "output_type": "execute_result"
    }
   ],
   "source": [
    "final_pred"
   ]
  },
  {
   "cell_type": "code",
   "execution_count": 6,
   "metadata": {},
   "outputs": [
    {
     "data": {
      "text/html": [
       "<div>\n",
       "<style scoped>\n",
       "    .dataframe tbody tr th:only-of-type {\n",
       "        vertical-align: middle;\n",
       "    }\n",
       "\n",
       "    .dataframe tbody tr th {\n",
       "        vertical-align: top;\n",
       "    }\n",
       "\n",
       "    .dataframe thead th {\n",
       "        text-align: right;\n",
       "    }\n",
       "</style>\n",
       "<table border=\"1\" class=\"dataframe\">\n",
       "  <thead>\n",
       "    <tr style=\"text-align: right;\">\n",
       "      <th></th>\n",
       "      <th>Id</th>\n",
       "      <th>SalePrice</th>\n",
       "    </tr>\n",
       "  </thead>\n",
       "  <tbody>\n",
       "    <tr>\n",
       "      <th>0</th>\n",
       "      <td>1461</td>\n",
       "      <td>128250.879389</td>\n",
       "    </tr>\n",
       "    <tr>\n",
       "      <th>1</th>\n",
       "      <td>1462</td>\n",
       "      <td>163414.757031</td>\n",
       "    </tr>\n",
       "    <tr>\n",
       "      <th>2</th>\n",
       "      <td>1463</td>\n",
       "      <td>190749.234289</td>\n",
       "    </tr>\n",
       "    <tr>\n",
       "      <th>3</th>\n",
       "      <td>1464</td>\n",
       "      <td>203481.241532</td>\n",
       "    </tr>\n",
       "    <tr>\n",
       "      <th>4</th>\n",
       "      <td>1465</td>\n",
       "      <td>196541.320088</td>\n",
       "    </tr>\n",
       "    <tr>\n",
       "      <th>...</th>\n",
       "      <td>...</td>\n",
       "      <td>...</td>\n",
       "    </tr>\n",
       "    <tr>\n",
       "      <th>1454</th>\n",
       "      <td>2915</td>\n",
       "      <td>86164.553925</td>\n",
       "    </tr>\n",
       "    <tr>\n",
       "      <th>1455</th>\n",
       "      <td>2916</td>\n",
       "      <td>86349.368901</td>\n",
       "    </tr>\n",
       "    <tr>\n",
       "      <th>1456</th>\n",
       "      <td>2917</td>\n",
       "      <td>176765.974424</td>\n",
       "    </tr>\n",
       "    <tr>\n",
       "      <th>1457</th>\n",
       "      <td>2918</td>\n",
       "      <td>121650.124802</td>\n",
       "    </tr>\n",
       "    <tr>\n",
       "      <th>1458</th>\n",
       "      <td>2919</td>\n",
       "      <td>223374.344789</td>\n",
       "    </tr>\n",
       "  </tbody>\n",
       "</table>\n",
       "<p>1459 rows × 2 columns</p>\n",
       "</div>"
      ],
      "text/plain": [
       "        Id      SalePrice\n",
       "0     1461  128250.879389\n",
       "1     1462  163414.757031\n",
       "2     1463  190749.234289\n",
       "3     1464  203481.241532\n",
       "4     1465  196541.320088\n",
       "...    ...            ...\n",
       "1454  2915   86164.553925\n",
       "1455  2916   86349.368901\n",
       "1456  2917  176765.974424\n",
       "1457  2918  121650.124802\n",
       "1458  2919  223374.344789\n",
       "\n",
       "[1459 rows x 2 columns]"
      ]
     },
     "execution_count": 6,
     "metadata": {},
     "output_type": "execute_result"
    }
   ],
   "source": [
    "submission = pd.read_csv(\"C://Users//nene0//OneDrive//바탕 화면//Datasets//house-prices-advanced-regression-techniques//sample_submission.csv\")\n",
    "submission.drop(columns='SalePrice', inplace=True)\n",
    "result_df = submission.join(final_pred)\n",
    "result_df.to_csv(\"newly_cleaned_result.csv\", index=False)\n",
    "result_df"
   ]
  },
  {
   "cell_type": "code",
   "execution_count": 7,
   "metadata": {},
   "outputs": [
    {
     "data": {
      "text/html": [
       "<div>\n",
       "<style scoped>\n",
       "    .dataframe tbody tr th:only-of-type {\n",
       "        vertical-align: middle;\n",
       "    }\n",
       "\n",
       "    .dataframe tbody tr th {\n",
       "        vertical-align: top;\n",
       "    }\n",
       "\n",
       "    .dataframe thead th {\n",
       "        text-align: right;\n",
       "    }\n",
       "</style>\n",
       "<table border=\"1\" class=\"dataframe\">\n",
       "  <thead>\n",
       "    <tr style=\"text-align: right;\">\n",
       "      <th></th>\n",
       "      <th>Id</th>\n",
       "      <th>SalePrice</th>\n",
       "    </tr>\n",
       "  </thead>\n",
       "  <tbody>\n",
       "    <tr>\n",
       "      <th>0</th>\n",
       "      <td>1461</td>\n",
       "      <td>128250.879389</td>\n",
       "    </tr>\n",
       "    <tr>\n",
       "      <th>1</th>\n",
       "      <td>1462</td>\n",
       "      <td>163414.757031</td>\n",
       "    </tr>\n",
       "    <tr>\n",
       "      <th>2</th>\n",
       "      <td>1463</td>\n",
       "      <td>190749.234289</td>\n",
       "    </tr>\n",
       "    <tr>\n",
       "      <th>3</th>\n",
       "      <td>1464</td>\n",
       "      <td>203481.241532</td>\n",
       "    </tr>\n",
       "    <tr>\n",
       "      <th>4</th>\n",
       "      <td>1465</td>\n",
       "      <td>196541.320088</td>\n",
       "    </tr>\n",
       "    <tr>\n",
       "      <th>...</th>\n",
       "      <td>...</td>\n",
       "      <td>...</td>\n",
       "    </tr>\n",
       "    <tr>\n",
       "      <th>1454</th>\n",
       "      <td>2915</td>\n",
       "      <td>86164.553925</td>\n",
       "    </tr>\n",
       "    <tr>\n",
       "      <th>1455</th>\n",
       "      <td>2916</td>\n",
       "      <td>86349.368901</td>\n",
       "    </tr>\n",
       "    <tr>\n",
       "      <th>1456</th>\n",
       "      <td>2917</td>\n",
       "      <td>176765.974424</td>\n",
       "    </tr>\n",
       "    <tr>\n",
       "      <th>1457</th>\n",
       "      <td>2918</td>\n",
       "      <td>121650.124802</td>\n",
       "    </tr>\n",
       "    <tr>\n",
       "      <th>1458</th>\n",
       "      <td>2919</td>\n",
       "      <td>223374.344789</td>\n",
       "    </tr>\n",
       "  </tbody>\n",
       "</table>\n",
       "<p>1459 rows × 2 columns</p>\n",
       "</div>"
      ],
      "text/plain": [
       "        Id      SalePrice\n",
       "0     1461  128250.879389\n",
       "1     1462  163414.757031\n",
       "2     1463  190749.234289\n",
       "3     1464  203481.241532\n",
       "4     1465  196541.320088\n",
       "...    ...            ...\n",
       "1454  2915   86164.553925\n",
       "1455  2916   86349.368901\n",
       "1456  2917  176765.974424\n",
       "1457  2918  121650.124802\n",
       "1458  2919  223374.344789\n",
       "\n",
       "[1459 rows x 2 columns]"
      ]
     },
     "execution_count": 7,
     "metadata": {},
     "output_type": "execute_result"
    }
   ],
   "source": [
    "result_df"
   ]
  },
  {
   "cell_type": "markdown",
   "metadata": {},
   "source": [
    "# Summary\n",
    "\n",
    "Consequently, this model has shown improvement over the base model and the model that did not account for data leakage prevention in the Kaggle competition. The score of this model has increased by approximately 0.23 in the Kaggle competition. As we discussed in the training notebook, while this approach may not yield the highest possible score in Kaggle competitions, it results in a more generalized model that closely simulates the real-world data modeling process.\n",
    "\n",
    "In the real world, data leakage is not as prevalent as it often occurs in Kaggle competitions, where test data information should not be incorporated into the prediction model. However, practicing and implementing a more realistic approach to model building can significantly enhance one's skills as a real-world data scientist."
   ]
  }
 ],
 "metadata": {
  "kernelspec": {
   "display_name": "Python 3",
   "language": "python",
   "name": "python3"
  },
  "language_info": {
   "codemirror_mode": {
    "name": "ipython",
    "version": 3
   },
   "file_extension": ".py",
   "mimetype": "text/x-python",
   "name": "python",
   "nbconvert_exporter": "python",
   "pygments_lexer": "ipython3",
   "version": "3.11.3"
  },
  "orig_nbformat": 4
 },
 "nbformat": 4,
 "nbformat_minor": 2
}
